{
 "cells": [
  {
   "cell_type": "code",
   "execution_count": 1,
   "id": "4a693c17-10f8-401b-97ab-ea64c235dfed",
   "metadata": {},
   "outputs": [],
   "source": [
    "import pandas as pd\n",
    "import numpy as np\n",
    "%matplotlib inline\n",
    "from IPython.display import display"
   ]
  },
  {
   "cell_type": "code",
   "execution_count": 5,
   "id": "cb6a1da0",
   "metadata": {},
   "outputs": [
    {
     "data": {
      "text/plain": [
       "'1.4.4'"
      ]
     },
     "execution_count": 5,
     "metadata": {},
     "output_type": "execute_result"
    }
   ],
   "source": [
    "pd.__version__"
   ]
  },
  {
   "cell_type": "markdown",
   "id": "954f6715-3012-4306-a5c6-43a3d8296df1",
   "metadata": {},
   "source": [
    "### Loading data premier league matches for 3 seasons"
   ]
  },
  {
   "cell_type": "code",
   "execution_count": 6,
   "id": "2e093364-f514-4693-bab9-0d61de141657",
   "metadata": {},
   "outputs": [],
   "source": [
    "file_match = \"match_pl_20230121.csv\""
   ]
  },
  {
   "cell_type": "code",
   "execution_count": 7,
   "id": "25d2a058-a5e2-4c6a-804c-51f370284b4f",
   "metadata": {},
   "outputs": [],
   "source": [
    "matches = pd.read_csv(file_match, index_col=0, sep=';')"
   ]
  },
  {
   "cell_type": "code",
   "execution_count": 78,
   "id": "abacd8ed-1dce-4e17-b6bc-81685447c79e",
   "metadata": {},
   "outputs": [
    {
     "data": {
      "text/html": [
       "<div>\n",
       "<style scoped>\n",
       "    .dataframe tbody tr th:only-of-type {\n",
       "        vertical-align: middle;\n",
       "    }\n",
       "\n",
       "    .dataframe tbody tr th {\n",
       "        vertical-align: top;\n",
       "    }\n",
       "\n",
       "    .dataframe thead th {\n",
       "        text-align: right;\n",
       "    }\n",
       "</style>\n",
       "<table border=\"1\" class=\"dataframe\">\n",
       "  <thead>\n",
       "    <tr style=\"text-align: right;\">\n",
       "      <th></th>\n",
       "      <th>date</th>\n",
       "      <th>time</th>\n",
       "      <th>comp</th>\n",
       "      <th>round</th>\n",
       "      <th>day</th>\n",
       "      <th>venue</th>\n",
       "      <th>result</th>\n",
       "      <th>gf</th>\n",
       "      <th>ga</th>\n",
       "      <th>opponent</th>\n",
       "      <th>...</th>\n",
       "      <th>match report</th>\n",
       "      <th>notes</th>\n",
       "      <th>sh</th>\n",
       "      <th>sot</th>\n",
       "      <th>dist</th>\n",
       "      <th>fk</th>\n",
       "      <th>pk</th>\n",
       "      <th>pkatt</th>\n",
       "      <th>season</th>\n",
       "      <th>team</th>\n",
       "    </tr>\n",
       "  </thead>\n",
       "  <tbody>\n",
       "    <tr>\n",
       "      <th>0</th>\n",
       "      <td>13/08/2021</td>\n",
       "      <td>20:00</td>\n",
       "      <td>Premier League</td>\n",
       "      <td>Matchweek 1</td>\n",
       "      <td>Fri</td>\n",
       "      <td>Away</td>\n",
       "      <td>L</td>\n",
       "      <td>0.0</td>\n",
       "      <td>2.0</td>\n",
       "      <td>Brentford</td>\n",
       "      <td>...</td>\n",
       "      <td>Match Report</td>\n",
       "      <td>NaN</td>\n",
       "      <td>22.0</td>\n",
       "      <td>4.0</td>\n",
       "      <td>19.0</td>\n",
       "      <td>1.0</td>\n",
       "      <td>0.0</td>\n",
       "      <td>0.0</td>\n",
       "      <td>2022</td>\n",
       "      <td>Arsenal</td>\n",
       "    </tr>\n",
       "    <tr>\n",
       "      <th>0</th>\n",
       "      <td>13/08/2021</td>\n",
       "      <td>20:00</td>\n",
       "      <td>Premier League</td>\n",
       "      <td>Matchweek 1</td>\n",
       "      <td>Fri</td>\n",
       "      <td>Home</td>\n",
       "      <td>W</td>\n",
       "      <td>2.0</td>\n",
       "      <td>0.0</td>\n",
       "      <td>Arsenal</td>\n",
       "      <td>...</td>\n",
       "      <td>Match Report</td>\n",
       "      <td>NaN</td>\n",
       "      <td>8.0</td>\n",
       "      <td>3.0</td>\n",
       "      <td>12.1</td>\n",
       "      <td>0.0</td>\n",
       "      <td>0.0</td>\n",
       "      <td>0.0</td>\n",
       "      <td>2022</td>\n",
       "      <td>Brentford</td>\n",
       "    </tr>\n",
       "    <tr>\n",
       "      <th>0</th>\n",
       "      <td>14/08/2021</td>\n",
       "      <td>17:30</td>\n",
       "      <td>Premier League</td>\n",
       "      <td>Matchweek 1</td>\n",
       "      <td>Sat</td>\n",
       "      <td>Away</td>\n",
       "      <td>W</td>\n",
       "      <td>3.0</td>\n",
       "      <td>0.0</td>\n",
       "      <td>Norwich City</td>\n",
       "      <td>...</td>\n",
       "      <td>Match Report</td>\n",
       "      <td>NaN</td>\n",
       "      <td>19.0</td>\n",
       "      <td>6.0</td>\n",
       "      <td>17.3</td>\n",
       "      <td>1.0</td>\n",
       "      <td>0.0</td>\n",
       "      <td>0.0</td>\n",
       "      <td>2022</td>\n",
       "      <td>Liverpool</td>\n",
       "    </tr>\n",
       "    <tr>\n",
       "      <th>1</th>\n",
       "      <td>14/08/2021</td>\n",
       "      <td>15:00</td>\n",
       "      <td>Premier League</td>\n",
       "      <td>Matchweek 1</td>\n",
       "      <td>Sat</td>\n",
       "      <td>Home</td>\n",
       "      <td>W</td>\n",
       "      <td>3.0</td>\n",
       "      <td>0.0</td>\n",
       "      <td>Crystal Palace</td>\n",
       "      <td>...</td>\n",
       "      <td>Match Report</td>\n",
       "      <td>NaN</td>\n",
       "      <td>13.0</td>\n",
       "      <td>6.0</td>\n",
       "      <td>21.0</td>\n",
       "      <td>4.0</td>\n",
       "      <td>0.0</td>\n",
       "      <td>0.0</td>\n",
       "      <td>2022</td>\n",
       "      <td>Chelsea</td>\n",
       "    </tr>\n",
       "    <tr>\n",
       "      <th>0</th>\n",
       "      <td>14/08/2021</td>\n",
       "      <td>12:30</td>\n",
       "      <td>Premier League</td>\n",
       "      <td>Matchweek 1</td>\n",
       "      <td>Sat</td>\n",
       "      <td>Home</td>\n",
       "      <td>W</td>\n",
       "      <td>5.0</td>\n",
       "      <td>1.0</td>\n",
       "      <td>Leeds United</td>\n",
       "      <td>...</td>\n",
       "      <td>Match Report</td>\n",
       "      <td>NaN</td>\n",
       "      <td>16.0</td>\n",
       "      <td>8.0</td>\n",
       "      <td>18.2</td>\n",
       "      <td>0.0</td>\n",
       "      <td>0.0</td>\n",
       "      <td>0.0</td>\n",
       "      <td>2022</td>\n",
       "      <td>Manchester United</td>\n",
       "    </tr>\n",
       "    <tr>\n",
       "      <th>...</th>\n",
       "      <td>...</td>\n",
       "      <td>...</td>\n",
       "      <td>...</td>\n",
       "      <td>...</td>\n",
       "      <td>...</td>\n",
       "      <td>...</td>\n",
       "      <td>...</td>\n",
       "      <td>...</td>\n",
       "      <td>...</td>\n",
       "      <td>...</td>\n",
       "      <td>...</td>\n",
       "      <td>...</td>\n",
       "      <td>...</td>\n",
       "      <td>...</td>\n",
       "      <td>...</td>\n",
       "      <td>...</td>\n",
       "      <td>...</td>\n",
       "      <td>...</td>\n",
       "      <td>...</td>\n",
       "      <td>...</td>\n",
       "      <td>...</td>\n",
       "    </tr>\n",
       "    <tr>\n",
       "      <th>20</th>\n",
       "      <td>15/01/2023</td>\n",
       "      <td>14:00</td>\n",
       "      <td>Premier League</td>\n",
       "      <td>Matchweek 20</td>\n",
       "      <td>Sun</td>\n",
       "      <td>Away</td>\n",
       "      <td>L</td>\n",
       "      <td>0.0</td>\n",
       "      <td>1.0</td>\n",
       "      <td>Chelsea</td>\n",
       "      <td>...</td>\n",
       "      <td>Match Report</td>\n",
       "      <td>NaN</td>\n",
       "      <td>10.0</td>\n",
       "      <td>5.0</td>\n",
       "      <td>17.9</td>\n",
       "      <td>0.0</td>\n",
       "      <td>0.0</td>\n",
       "      <td>0.0</td>\n",
       "      <td>2023</td>\n",
       "      <td>Crystal Palace</td>\n",
       "    </tr>\n",
       "    <tr>\n",
       "      <th>28</th>\n",
       "      <td>18/01/2023</td>\n",
       "      <td>20:00</td>\n",
       "      <td>Premier League</td>\n",
       "      <td>Matchweek 7</td>\n",
       "      <td>Wed</td>\n",
       "      <td>Away</td>\n",
       "      <td>D</td>\n",
       "      <td>1.0</td>\n",
       "      <td>1.0</td>\n",
       "      <td>Crystal Palace</td>\n",
       "      <td>...</td>\n",
       "      <td>Match Report</td>\n",
       "      <td>NaN</td>\n",
       "      <td>15.0</td>\n",
       "      <td>4.0</td>\n",
       "      <td>19.5</td>\n",
       "      <td>1.0</td>\n",
       "      <td>0.0</td>\n",
       "      <td>0.0</td>\n",
       "      <td>2023</td>\n",
       "      <td>Manchester United</td>\n",
       "    </tr>\n",
       "    <tr>\n",
       "      <th>21</th>\n",
       "      <td>18/01/2023</td>\n",
       "      <td>20:00</td>\n",
       "      <td>Premier League</td>\n",
       "      <td>Matchweek 7</td>\n",
       "      <td>Wed</td>\n",
       "      <td>Home</td>\n",
       "      <td>D</td>\n",
       "      <td>1.0</td>\n",
       "      <td>1.0</td>\n",
       "      <td>Manchester Utd</td>\n",
       "      <td>...</td>\n",
       "      <td>Match Report</td>\n",
       "      <td>NaN</td>\n",
       "      <td>10.0</td>\n",
       "      <td>5.0</td>\n",
       "      <td>18.2</td>\n",
       "      <td>2.0</td>\n",
       "      <td>0.0</td>\n",
       "      <td>0.0</td>\n",
       "      <td>2023</td>\n",
       "      <td>Crystal Palace</td>\n",
       "    </tr>\n",
       "    <tr>\n",
       "      <th>29</th>\n",
       "      <td>19/01/2023</td>\n",
       "      <td>20:00</td>\n",
       "      <td>Premier League</td>\n",
       "      <td>Matchweek 7</td>\n",
       "      <td>Thu</td>\n",
       "      <td>Home</td>\n",
       "      <td>W</td>\n",
       "      <td>4.0</td>\n",
       "      <td>2.0</td>\n",
       "      <td>Tottenham</td>\n",
       "      <td>...</td>\n",
       "      <td>Match Report</td>\n",
       "      <td>NaN</td>\n",
       "      <td>16.0</td>\n",
       "      <td>6.0</td>\n",
       "      <td>16.3</td>\n",
       "      <td>1.0</td>\n",
       "      <td>0.0</td>\n",
       "      <td>0.0</td>\n",
       "      <td>2023</td>\n",
       "      <td>Manchester City</td>\n",
       "    </tr>\n",
       "    <tr>\n",
       "      <th>27</th>\n",
       "      <td>19/01/2023</td>\n",
       "      <td>20:00</td>\n",
       "      <td>Premier League</td>\n",
       "      <td>Matchweek 7</td>\n",
       "      <td>Thu</td>\n",
       "      <td>Away</td>\n",
       "      <td>L</td>\n",
       "      <td>2.0</td>\n",
       "      <td>4.0</td>\n",
       "      <td>Manchester City</td>\n",
       "      <td>...</td>\n",
       "      <td>Match Report</td>\n",
       "      <td>NaN</td>\n",
       "      <td>9.0</td>\n",
       "      <td>3.0</td>\n",
       "      <td>16.5</td>\n",
       "      <td>0.0</td>\n",
       "      <td>0.0</td>\n",
       "      <td>0.0</td>\n",
       "      <td>2023</td>\n",
       "      <td>Tottenham Hotspur</td>\n",
       "    </tr>\n",
       "  </tbody>\n",
       "</table>\n",
       "<p>1138 rows × 27 columns</p>\n",
       "</div>"
      ],
      "text/plain": [
       "          date   time            comp         round  day venue result   gf  \\\n",
       "0   13/08/2021  20:00  Premier League   Matchweek 1  Fri  Away      L  0.0   \n",
       "0   13/08/2021  20:00  Premier League   Matchweek 1  Fri  Home      W  2.0   \n",
       "0   14/08/2021  17:30  Premier League   Matchweek 1  Sat  Away      W  3.0   \n",
       "1   14/08/2021  15:00  Premier League   Matchweek 1  Sat  Home      W  3.0   \n",
       "0   14/08/2021  12:30  Premier League   Matchweek 1  Sat  Home      W  5.0   \n",
       "..         ...    ...             ...           ...  ...   ...    ...  ...   \n",
       "20  15/01/2023  14:00  Premier League  Matchweek 20  Sun  Away      L  0.0   \n",
       "28  18/01/2023  20:00  Premier League   Matchweek 7  Wed  Away      D  1.0   \n",
       "21  18/01/2023  20:00  Premier League   Matchweek 7  Wed  Home      D  1.0   \n",
       "29  19/01/2023  20:00  Premier League   Matchweek 7  Thu  Home      W  4.0   \n",
       "27  19/01/2023  20:00  Premier League   Matchweek 7  Thu  Away      L  2.0   \n",
       "\n",
       "     ga         opponent  ...  match report  notes    sh  sot  dist   fk   pk  \\\n",
       "0   2.0        Brentford  ...  Match Report    NaN  22.0  4.0  19.0  1.0  0.0   \n",
       "0   0.0          Arsenal  ...  Match Report    NaN   8.0  3.0  12.1  0.0  0.0   \n",
       "0   0.0     Norwich City  ...  Match Report    NaN  19.0  6.0  17.3  1.0  0.0   \n",
       "1   0.0   Crystal Palace  ...  Match Report    NaN  13.0  6.0  21.0  4.0  0.0   \n",
       "0   1.0     Leeds United  ...  Match Report    NaN  16.0  8.0  18.2  0.0  0.0   \n",
       "..  ...              ...  ...           ...    ...   ...  ...   ...  ...  ...   \n",
       "20  1.0          Chelsea  ...  Match Report    NaN  10.0  5.0  17.9  0.0  0.0   \n",
       "28  1.0   Crystal Palace  ...  Match Report    NaN  15.0  4.0  19.5  1.0  0.0   \n",
       "21  1.0   Manchester Utd  ...  Match Report    NaN  10.0  5.0  18.2  2.0  0.0   \n",
       "29  2.0        Tottenham  ...  Match Report    NaN  16.0  6.0  16.3  1.0  0.0   \n",
       "27  4.0  Manchester City  ...  Match Report    NaN   9.0  3.0  16.5  0.0  0.0   \n",
       "\n",
       "   pkatt  season               team  \n",
       "0    0.0    2022            Arsenal  \n",
       "0    0.0    2022          Brentford  \n",
       "0    0.0    2022          Liverpool  \n",
       "1    0.0    2022            Chelsea  \n",
       "0    0.0    2022  Manchester United  \n",
       "..   ...     ...                ...  \n",
       "20   0.0    2023     Crystal Palace  \n",
       "28   0.0    2023  Manchester United  \n",
       "21   0.0    2023     Crystal Palace  \n",
       "29   0.0    2023    Manchester City  \n",
       "27   0.0    2023  Tottenham Hotspur  \n",
       "\n",
       "[1138 rows x 27 columns]"
      ]
     },
     "execution_count": 78,
     "metadata": {},
     "output_type": "execute_result"
    }
   ],
   "source": [
    "matches"
   ]
  },
  {
   "cell_type": "code",
   "execution_count": 9,
   "id": "7916dc62",
   "metadata": {},
   "outputs": [
    {
     "data": {
      "text/plain": [
       "Index(['date', 'time', 'comp', 'round', 'day', 'venue', 'result', 'gf', 'ga',\n",
       "       'opponent', 'xg', 'xga', 'poss', 'attendance', 'captain', 'formation',\n",
       "       'referee', 'match report', 'notes', 'sh', 'sot', 'dist', 'fk', 'pk',\n",
       "       'pkatt', 'season', 'team'],\n",
       "      dtype='object')"
      ]
     },
     "execution_count": 9,
     "metadata": {},
     "output_type": "execute_result"
    }
   ],
   "source": [
    "matches.columns"
   ]
  },
  {
   "cell_type": "code",
   "execution_count": 64,
   "id": "c81d6ef6",
   "metadata": {},
   "outputs": [],
   "source": [
    "cols = ['team', 'opponent', 'round', 'date', 'venue','time', 'result']"
   ]
  },
  {
   "cell_type": "markdown",
   "id": "4fd1a413",
   "metadata": {},
   "source": [
    "### Optimization of the memory used by the data"
   ]
  },
  {
   "cell_type": "code",
   "execution_count": 11,
   "id": "b25a96be",
   "metadata": {},
   "outputs": [
    {
     "data": {
      "text/plain": [
       "team        object\n",
       "round       object\n",
       "date        object\n",
       "venue       object\n",
       "opponent    object\n",
       "time        object\n",
       "date        object\n",
       "result      object\n",
       "dtype: object"
      ]
     },
     "execution_count": 11,
     "metadata": {},
     "output_type": "execute_result"
    }
   ],
   "source": [
    "matches[cols].dtypes"
   ]
  },
  {
   "cell_type": "code",
   "execution_count": 13,
   "id": "a0476f51",
   "metadata": {},
   "outputs": [
    {
     "data": {
      "text/plain": [
       "Index        9104\n",
       "team        79467\n",
       "round       78182\n",
       "date        76246\n",
       "venue       69418\n",
       "opponent    76359\n",
       "time        70556\n",
       "date        76246\n",
       "result      66004\n",
       "dtype: int64"
      ]
     },
     "execution_count": 13,
     "metadata": {},
     "output_type": "execute_result"
    }
   ],
   "source": [
    "matches[cols].memory_usage(deep=True)"
   ]
  },
  {
   "cell_type": "code",
   "execution_count": 17,
   "id": "8d3f747d",
   "metadata": {},
   "outputs": [
    {
     "data": {
      "text/plain": [
       "601582"
      ]
     },
     "execution_count": 17,
     "metadata": {},
     "output_type": "execute_result"
    }
   ],
   "source": [
    "#chaining\n",
    "(matches\n",
    " [cols]\n",
    " .memory_usage(deep=True)\n",
    " .sum()\n",
    ")"
   ]
  },
  {
   "cell_type": "code",
   "execution_count": 48,
   "id": "34c7f575",
   "metadata": {},
   "outputs": [],
   "source": [
    "def investigate_column(column_name):\n",
    "    return (matches\n",
    "     [cols]\n",
    "     [column_name]\n",
    "     .value_counts(dropna=False)\n",
    "    )"
   ]
  },
  {
   "cell_type": "code",
   "execution_count": 57,
   "id": "b8180e2b",
   "metadata": {},
   "outputs": [
    {
     "data": {
      "text/plain": [
       "team                     opponent       \n",
       "Wolverhampton Wanderers  West Ham           4\n",
       "West Ham United          Wolves             4\n",
       "Everton                  Southampton        4\n",
       "Leeds United             Aston Villa        4\n",
       "Crystal Palace           Chelsea            4\n",
       "                                           ..\n",
       "Bournemouth              Fulham             1\n",
       "Nottingham Forest        Arsenal            1\n",
       "Bournemouth              Leeds United       1\n",
       "Southampton              Nott'ham Forest    1\n",
       "Everton                  Bournemouth        1\n",
       "Length: 484, dtype: int64"
      ]
     },
     "execution_count": 57,
     "metadata": {},
     "output_type": "execute_result"
    }
   ],
   "source": [
    "#investigate team and opponent columns\n",
    "investigate_column(['team', 'opponent'])\n",
    "#it looks like a categorical columns"
   ]
  },
  {
   "cell_type": "code",
   "execution_count": 59,
   "id": "c7e374d0",
   "metadata": {},
   "outputs": [
    {
     "data": {
      "text/plain": [
       "449106"
      ]
     },
     "execution_count": 59,
     "metadata": {},
     "output_type": "execute_result"
    }
   ],
   "source": [
    "#chaining\n",
    "(matches\n",
    " [cols]\n",
    " .assign(team = matches.team.astype('category'))\n",
    " .assign(team = matches.opponent.astype('category'))\n",
    " .memory_usage(deep=True)\n",
    " .sum()\n",
    ")"
   ]
  },
  {
   "cell_type": "code",
   "execution_count": 61,
   "id": "413b7649",
   "metadata": {},
   "outputs": [
    {
     "data": {
      "text/plain": [
       "Matchweek 1     40\n",
       "Matchweek 11    40\n",
       "Matchweek 2     40\n",
       "Matchweek 19    40\n",
       "Matchweek 18    40\n",
       "Matchweek 17    40\n",
       "Matchweek 16    40\n",
       "Matchweek 15    40\n",
       "Matchweek 14    40\n",
       "Matchweek 13    40\n",
       "Matchweek 20    40\n",
       "Matchweek 3     40\n",
       "Matchweek 5     40\n",
       "Matchweek 9     40\n",
       "Matchweek 10    40\n",
       "Matchweek 4     40\n",
       "Matchweek 6     40\n",
       "Matchweek 12    38\n",
       "Matchweek 8     34\n",
       "Matchweek 7     26\n",
       "Matchweek 29    20\n",
       "Matchweek 36    20\n",
       "Matchweek 35    20\n",
       "Matchweek 37    20\n",
       "Matchweek 34    20\n",
       "Matchweek 33    20\n",
       "Matchweek 32    20\n",
       "Matchweek 31    20\n",
       "Matchweek 25    20\n",
       "Matchweek 30    20\n",
       "Matchweek 28    20\n",
       "Matchweek 27    20\n",
       "Matchweek 26    20\n",
       "Matchweek 23    20\n",
       "Matchweek 24    20\n",
       "Matchweek 22    20\n",
       "Matchweek 21    20\n",
       "Matchweek 38    20\n",
       "Name: round, dtype: int64"
      ]
     },
     "execution_count": 61,
     "metadata": {},
     "output_type": "execute_result"
    }
   ],
   "source": [
    "#investigate round column\n",
    "investigate_column('round')\n",
    "#it looks like a categorical columns"
   ]
  },
  {
   "cell_type": "code",
   "execution_count": 62,
   "id": "880d5de0",
   "metadata": {},
   "outputs": [
    {
     "data": {
      "text/plain": [
       "302681"
      ]
     },
     "execution_count": 62,
     "metadata": {},
     "output_type": "execute_result"
    }
   ],
   "source": [
    "#chaining\n",
    "(matches\n",
    " [cols]\n",
    " .astype({'team':'category','opponent':'category', 'round':'category'})\n",
    " .memory_usage(deep=True)\n",
    " .sum()\n",
    ")"
   ]
  },
  {
   "cell_type": "code",
   "execution_count": 51,
   "id": "837314f4",
   "metadata": {},
   "outputs": [
    {
     "data": {
      "text/plain": [
       "22/05/2022    20\n",
       "03/09/2022    16\n",
       "12/11/2022    16\n",
       "20/11/2021    16\n",
       "19/02/2022    16\n",
       "              ..\n",
       "14/03/2022     2\n",
       "07/03/2022     2\n",
       "01/03/2022     2\n",
       "27/02/2022     2\n",
       "19/01/2023     2\n",
       "Name: date, Length: 179, dtype: int64"
      ]
     },
     "execution_count": 51,
     "metadata": {},
     "output_type": "execute_result"
    }
   ],
   "source": [
    "#investigate date column\n",
    "investigate_column('date')\n",
    "#we need to convert it to datetime type"
   ]
  },
  {
   "cell_type": "code",
   "execution_count": 39,
   "id": "10eea762",
   "metadata": {},
   "outputs": [
    {
     "data": {
      "text/plain": [
       "308661"
      ]
     },
     "execution_count": 39,
     "metadata": {},
     "output_type": "execute_result"
    }
   ],
   "source": [
    "#chaining\n",
    "(matches\n",
    " [cols]\n",
    " .astype({'team':'category', 'round':'category'})\n",
    " .assign(date = pd.to_datetime(matches.date, infer_datetime_format=True))\n",
    " .memory_usage(deep=True)\n",
    " .sum()\n",
    ")"
   ]
  },
  {
   "cell_type": "code",
   "execution_count": 54,
   "id": "9f5ccc49",
   "metadata": {},
   "outputs": [
    {
     "data": {
      "text/plain": [
       "Away    569\n",
       "Home    569\n",
       "Name: venue, dtype: int64"
      ]
     },
     "execution_count": 54,
     "metadata": {},
     "output_type": "execute_result"
    }
   ],
   "source": [
    "#investigate venue column\n",
    "investigate_column('venue')\n",
    "#it looks like a categorical columns"
   ]
  },
  {
   "cell_type": "code",
   "execution_count": 65,
   "id": "05c063a5",
   "metadata": {},
   "outputs": [
    {
     "data": {
      "text/plain": [
       "167489"
      ]
     },
     "execution_count": 65,
     "metadata": {},
     "output_type": "execute_result"
    }
   ],
   "source": [
    "#chaining\n",
    "(matches\n",
    " [cols]\n",
    " .astype({'team':'category', 'opponent':'category' ,'round':'category', 'venue':'category'})\n",
    " .assign(date = pd.to_datetime(matches.date, infer_datetime_format=True))\n",
    " .memory_usage(deep=True)\n",
    " .sum()\n",
    ")"
   ]
  },
  {
   "cell_type": "code",
   "execution_count": 67,
   "id": "d9a59fb9",
   "metadata": {},
   "outputs": [
    {
     "data": {
      "text/plain": [
       "15:00    366\n",
       "14:00    184\n",
       "20:00    122\n",
       "17:30     98\n",
       "12:30     88\n",
       "16:30     84\n",
       "19:45     72\n",
       "19:30     60\n",
       "20:15     24\n",
       "16:00     20\n",
       "14:15      8\n",
       "12:00      6\n",
       "18:00      2\n",
       "19:00      2\n",
       "16:15      2\n",
       "Name: time, dtype: int64"
      ]
     },
     "execution_count": 67,
     "metadata": {},
     "output_type": "execute_result"
    }
   ],
   "source": [
    "#investigate time column\n",
    "investigate_column('time')\n",
    "#Let's only take the hours of the time columns"
   ]
  },
  {
   "cell_type": "code",
   "execution_count": 73,
   "id": "df68e1b9",
   "metadata": {},
   "outputs": [
    {
     "data": {
      "text/plain": [
       "106037"
      ]
     },
     "execution_count": 73,
     "metadata": {},
     "output_type": "execute_result"
    }
   ],
   "source": [
    "#chaining\n",
    "(matches\n",
    " [cols]\n",
    " .astype({'team':'category', 'opponent':'category' ,'round':'category', 'venue':'category'})\n",
    " .assign(date = pd.to_datetime(matches.date, infer_datetime_format=True))\n",
    " .assign(hour = matches.time.str.replace(\":.+\", \"\", regex=True).astype(\"int\"))\n",
    " .drop(columns = ['time'])\n",
    " .memory_usage(deep=True)\n",
    " .sum()\n",
    ")"
   ]
  },
  {
   "cell_type": "code",
   "execution_count": 74,
   "id": "f179b444",
   "metadata": {},
   "outputs": [
    {
     "data": {
      "text/plain": [
       "L    439\n",
       "W    439\n",
       "D    260\n",
       "Name: result, dtype: int64"
      ]
     },
     "execution_count": 74,
     "metadata": {},
     "output_type": "execute_result"
    }
   ],
   "source": [
    "#investigate time column\n",
    "investigate_column('result')\n",
    "#it looks like a categorical columns"
   ]
  },
  {
   "cell_type": "code",
   "execution_count": 75,
   "id": "c40da1ab",
   "metadata": {},
   "outputs": [
    {
     "data": {
      "text/plain": [
       "41453"
      ]
     },
     "execution_count": 75,
     "metadata": {},
     "output_type": "execute_result"
    }
   ],
   "source": [
    "#chaining\n",
    "(matches\n",
    " [cols]\n",
    " .astype({'team':'category', 'opponent':'category' ,'round':'category', 'venue':'category', 'result':'category'})\n",
    " .assign(date = pd.to_datetime(matches.date, infer_datetime_format=True))\n",
    " .assign(hour = matches.time.str.replace(\":.+\", \"\", regex=True).astype(\"int\"))\n",
    " .drop(columns = ['time'])\n",
    " .memory_usage(deep=True)\n",
    " .sum()\n",
    ")"
   ]
  },
  {
   "cell_type": "code",
   "execution_count": 76,
   "id": "2fbda55a",
   "metadata": {},
   "outputs": [],
   "source": [
    "def new_matches_df(matches):\n",
    "    cols = ['team', 'opponent', 'round', 'date', 'venue','time', 'result']\n",
    "    return (matches\n",
    " [cols]\n",
    " .astype({'team':'category', 'opponent':'category' ,'round':'category', 'venue':'category', 'result':'category'})\n",
    " .assign(date = pd.to_datetime(matches.date, infer_datetime_format=True))\n",
    " .assign(hour = matches.time.str.replace(\":.+\", \"\", regex=True).astype(\"int\"))\n",
    " .drop(columns = ['time'])\n",
    ")\n",
    "new_matches = new_matches_df(matches)   "
   ]
  },
  {
   "cell_type": "code",
   "execution_count": 77,
   "id": "1caf7fd2",
   "metadata": {},
   "outputs": [
    {
     "data": {
      "text/html": [
       "<div>\n",
       "<style scoped>\n",
       "    .dataframe tbody tr th:only-of-type {\n",
       "        vertical-align: middle;\n",
       "    }\n",
       "\n",
       "    .dataframe tbody tr th {\n",
       "        vertical-align: top;\n",
       "    }\n",
       "\n",
       "    .dataframe thead th {\n",
       "        text-align: right;\n",
       "    }\n",
       "</style>\n",
       "<table border=\"1\" class=\"dataframe\">\n",
       "  <thead>\n",
       "    <tr style=\"text-align: right;\">\n",
       "      <th></th>\n",
       "      <th>team</th>\n",
       "      <th>opponent</th>\n",
       "      <th>round</th>\n",
       "      <th>date</th>\n",
       "      <th>venue</th>\n",
       "      <th>result</th>\n",
       "      <th>hour</th>\n",
       "    </tr>\n",
       "  </thead>\n",
       "  <tbody>\n",
       "    <tr>\n",
       "      <th>0</th>\n",
       "      <td>Arsenal</td>\n",
       "      <td>Brentford</td>\n",
       "      <td>Matchweek 1</td>\n",
       "      <td>2021-08-13</td>\n",
       "      <td>Away</td>\n",
       "      <td>L</td>\n",
       "      <td>20</td>\n",
       "    </tr>\n",
       "    <tr>\n",
       "      <th>0</th>\n",
       "      <td>Brentford</td>\n",
       "      <td>Arsenal</td>\n",
       "      <td>Matchweek 1</td>\n",
       "      <td>2021-08-13</td>\n",
       "      <td>Home</td>\n",
       "      <td>W</td>\n",
       "      <td>20</td>\n",
       "    </tr>\n",
       "    <tr>\n",
       "      <th>0</th>\n",
       "      <td>Liverpool</td>\n",
       "      <td>Norwich City</td>\n",
       "      <td>Matchweek 1</td>\n",
       "      <td>2021-08-14</td>\n",
       "      <td>Away</td>\n",
       "      <td>W</td>\n",
       "      <td>17</td>\n",
       "    </tr>\n",
       "    <tr>\n",
       "      <th>1</th>\n",
       "      <td>Chelsea</td>\n",
       "      <td>Crystal Palace</td>\n",
       "      <td>Matchweek 1</td>\n",
       "      <td>2021-08-14</td>\n",
       "      <td>Home</td>\n",
       "      <td>W</td>\n",
       "      <td>15</td>\n",
       "    </tr>\n",
       "    <tr>\n",
       "      <th>0</th>\n",
       "      <td>Manchester United</td>\n",
       "      <td>Leeds United</td>\n",
       "      <td>Matchweek 1</td>\n",
       "      <td>2021-08-14</td>\n",
       "      <td>Home</td>\n",
       "      <td>W</td>\n",
       "      <td>12</td>\n",
       "    </tr>\n",
       "    <tr>\n",
       "      <th>...</th>\n",
       "      <td>...</td>\n",
       "      <td>...</td>\n",
       "      <td>...</td>\n",
       "      <td>...</td>\n",
       "      <td>...</td>\n",
       "      <td>...</td>\n",
       "      <td>...</td>\n",
       "    </tr>\n",
       "    <tr>\n",
       "      <th>20</th>\n",
       "      <td>Crystal Palace</td>\n",
       "      <td>Chelsea</td>\n",
       "      <td>Matchweek 20</td>\n",
       "      <td>2023-01-15</td>\n",
       "      <td>Away</td>\n",
       "      <td>L</td>\n",
       "      <td>14</td>\n",
       "    </tr>\n",
       "    <tr>\n",
       "      <th>28</th>\n",
       "      <td>Manchester United</td>\n",
       "      <td>Crystal Palace</td>\n",
       "      <td>Matchweek 7</td>\n",
       "      <td>2023-01-18</td>\n",
       "      <td>Away</td>\n",
       "      <td>D</td>\n",
       "      <td>20</td>\n",
       "    </tr>\n",
       "    <tr>\n",
       "      <th>21</th>\n",
       "      <td>Crystal Palace</td>\n",
       "      <td>Manchester Utd</td>\n",
       "      <td>Matchweek 7</td>\n",
       "      <td>2023-01-18</td>\n",
       "      <td>Home</td>\n",
       "      <td>D</td>\n",
       "      <td>20</td>\n",
       "    </tr>\n",
       "    <tr>\n",
       "      <th>29</th>\n",
       "      <td>Manchester City</td>\n",
       "      <td>Tottenham</td>\n",
       "      <td>Matchweek 7</td>\n",
       "      <td>2023-01-19</td>\n",
       "      <td>Home</td>\n",
       "      <td>W</td>\n",
       "      <td>20</td>\n",
       "    </tr>\n",
       "    <tr>\n",
       "      <th>27</th>\n",
       "      <td>Tottenham Hotspur</td>\n",
       "      <td>Manchester City</td>\n",
       "      <td>Matchweek 7</td>\n",
       "      <td>2023-01-19</td>\n",
       "      <td>Away</td>\n",
       "      <td>L</td>\n",
       "      <td>20</td>\n",
       "    </tr>\n",
       "  </tbody>\n",
       "</table>\n",
       "<p>1138 rows × 7 columns</p>\n",
       "</div>"
      ],
      "text/plain": [
       "                 team         opponent         round       date venue result  \\\n",
       "0             Arsenal        Brentford   Matchweek 1 2021-08-13  Away      L   \n",
       "0           Brentford          Arsenal   Matchweek 1 2021-08-13  Home      W   \n",
       "0           Liverpool     Norwich City   Matchweek 1 2021-08-14  Away      W   \n",
       "1             Chelsea   Crystal Palace   Matchweek 1 2021-08-14  Home      W   \n",
       "0   Manchester United     Leeds United   Matchweek 1 2021-08-14  Home      W   \n",
       "..                ...              ...           ...        ...   ...    ...   \n",
       "20     Crystal Palace          Chelsea  Matchweek 20 2023-01-15  Away      L   \n",
       "28  Manchester United   Crystal Palace   Matchweek 7 2023-01-18  Away      D   \n",
       "21     Crystal Palace   Manchester Utd   Matchweek 7 2023-01-18  Home      D   \n",
       "29    Manchester City        Tottenham   Matchweek 7 2023-01-19  Home      W   \n",
       "27  Tottenham Hotspur  Manchester City   Matchweek 7 2023-01-19  Away      L   \n",
       "\n",
       "    hour  \n",
       "0     20  \n",
       "0     20  \n",
       "0     17  \n",
       "1     15  \n",
       "0     12  \n",
       "..   ...  \n",
       "20    14  \n",
       "28    20  \n",
       "21    20  \n",
       "29    20  \n",
       "27    20  \n",
       "\n",
       "[1138 rows x 7 columns]"
      ]
     },
     "execution_count": 77,
     "metadata": {},
     "output_type": "execute_result"
    }
   ],
   "source": [
    "new_matches"
   ]
  },
  {
   "cell_type": "code",
   "execution_count": 84,
   "id": "47f1306e",
   "metadata": {},
   "outputs": [],
   "source": [
    "from IPython.display import display\n",
    "#create a variable to display a intermediate state\n",
    "def get_var(df, var_name):\n",
    "    print('get_var')\n",
    "    globals()[var_name] = df\n",
    "    return df"
   ]
  },
  {
   "cell_type": "code",
   "execution_count": 87,
   "id": "1f88325d",
   "metadata": {},
   "outputs": [
    {
     "name": "stdout",
     "output_type": "stream",
     "text": [
      "get_var\n"
     ]
    }
   ],
   "source": [
    "def new_matches_df(matches):\n",
    "    cols = ['team', 'opponent', 'round', 'date', 'venue','time', 'result']\n",
    "    return (matches\n",
    " [cols]\n",
    " .pipe(get_var, 'original_df')\n",
    " .astype({'team':'category', 'opponent':'category' ,'round':'category', 'venue':'category', 'result':'category'})\n",
    " .assign(date = pd.to_datetime(matches.date, infer_datetime_format=True))\n",
    " .assign(hour = matches.time.str.replace(\":.+\", \"\", regex=True).astype(\"int\"))\n",
    " .drop(columns = ['time'])\n",
    "#  .pipe(lambda df: display(df) or df)\n",
    ")\n",
    "new_matches = new_matches_df(matches) "
   ]
  },
  {
   "cell_type": "code",
   "execution_count": 88,
   "id": "507ceddf",
   "metadata": {},
   "outputs": [
    {
     "data": {
      "text/html": [
       "<div>\n",
       "<style scoped>\n",
       "    .dataframe tbody tr th:only-of-type {\n",
       "        vertical-align: middle;\n",
       "    }\n",
       "\n",
       "    .dataframe tbody tr th {\n",
       "        vertical-align: top;\n",
       "    }\n",
       "\n",
       "    .dataframe thead th {\n",
       "        text-align: right;\n",
       "    }\n",
       "</style>\n",
       "<table border=\"1\" class=\"dataframe\">\n",
       "  <thead>\n",
       "    <tr style=\"text-align: right;\">\n",
       "      <th></th>\n",
       "      <th>team</th>\n",
       "      <th>opponent</th>\n",
       "      <th>round</th>\n",
       "      <th>date</th>\n",
       "      <th>venue</th>\n",
       "      <th>time</th>\n",
       "      <th>result</th>\n",
       "    </tr>\n",
       "  </thead>\n",
       "  <tbody>\n",
       "    <tr>\n",
       "      <th>0</th>\n",
       "      <td>Arsenal</td>\n",
       "      <td>Brentford</td>\n",
       "      <td>Matchweek 1</td>\n",
       "      <td>13/08/2021</td>\n",
       "      <td>Away</td>\n",
       "      <td>20:00</td>\n",
       "      <td>L</td>\n",
       "    </tr>\n",
       "    <tr>\n",
       "      <th>0</th>\n",
       "      <td>Brentford</td>\n",
       "      <td>Arsenal</td>\n",
       "      <td>Matchweek 1</td>\n",
       "      <td>13/08/2021</td>\n",
       "      <td>Home</td>\n",
       "      <td>20:00</td>\n",
       "      <td>W</td>\n",
       "    </tr>\n",
       "    <tr>\n",
       "      <th>0</th>\n",
       "      <td>Liverpool</td>\n",
       "      <td>Norwich City</td>\n",
       "      <td>Matchweek 1</td>\n",
       "      <td>14/08/2021</td>\n",
       "      <td>Away</td>\n",
       "      <td>17:30</td>\n",
       "      <td>W</td>\n",
       "    </tr>\n",
       "    <tr>\n",
       "      <th>1</th>\n",
       "      <td>Chelsea</td>\n",
       "      <td>Crystal Palace</td>\n",
       "      <td>Matchweek 1</td>\n",
       "      <td>14/08/2021</td>\n",
       "      <td>Home</td>\n",
       "      <td>15:00</td>\n",
       "      <td>W</td>\n",
       "    </tr>\n",
       "    <tr>\n",
       "      <th>0</th>\n",
       "      <td>Manchester United</td>\n",
       "      <td>Leeds United</td>\n",
       "      <td>Matchweek 1</td>\n",
       "      <td>14/08/2021</td>\n",
       "      <td>Home</td>\n",
       "      <td>12:30</td>\n",
       "      <td>W</td>\n",
       "    </tr>\n",
       "    <tr>\n",
       "      <th>...</th>\n",
       "      <td>...</td>\n",
       "      <td>...</td>\n",
       "      <td>...</td>\n",
       "      <td>...</td>\n",
       "      <td>...</td>\n",
       "      <td>...</td>\n",
       "      <td>...</td>\n",
       "    </tr>\n",
       "    <tr>\n",
       "      <th>20</th>\n",
       "      <td>Crystal Palace</td>\n",
       "      <td>Chelsea</td>\n",
       "      <td>Matchweek 20</td>\n",
       "      <td>15/01/2023</td>\n",
       "      <td>Away</td>\n",
       "      <td>14:00</td>\n",
       "      <td>L</td>\n",
       "    </tr>\n",
       "    <tr>\n",
       "      <th>28</th>\n",
       "      <td>Manchester United</td>\n",
       "      <td>Crystal Palace</td>\n",
       "      <td>Matchweek 7</td>\n",
       "      <td>18/01/2023</td>\n",
       "      <td>Away</td>\n",
       "      <td>20:00</td>\n",
       "      <td>D</td>\n",
       "    </tr>\n",
       "    <tr>\n",
       "      <th>21</th>\n",
       "      <td>Crystal Palace</td>\n",
       "      <td>Manchester Utd</td>\n",
       "      <td>Matchweek 7</td>\n",
       "      <td>18/01/2023</td>\n",
       "      <td>Home</td>\n",
       "      <td>20:00</td>\n",
       "      <td>D</td>\n",
       "    </tr>\n",
       "    <tr>\n",
       "      <th>29</th>\n",
       "      <td>Manchester City</td>\n",
       "      <td>Tottenham</td>\n",
       "      <td>Matchweek 7</td>\n",
       "      <td>19/01/2023</td>\n",
       "      <td>Home</td>\n",
       "      <td>20:00</td>\n",
       "      <td>W</td>\n",
       "    </tr>\n",
       "    <tr>\n",
       "      <th>27</th>\n",
       "      <td>Tottenham Hotspur</td>\n",
       "      <td>Manchester City</td>\n",
       "      <td>Matchweek 7</td>\n",
       "      <td>19/01/2023</td>\n",
       "      <td>Away</td>\n",
       "      <td>20:00</td>\n",
       "      <td>L</td>\n",
       "    </tr>\n",
       "  </tbody>\n",
       "</table>\n",
       "<p>1138 rows × 7 columns</p>\n",
       "</div>"
      ],
      "text/plain": [
       "                 team         opponent         round        date venue   time  \\\n",
       "0             Arsenal        Brentford   Matchweek 1  13/08/2021  Away  20:00   \n",
       "0           Brentford          Arsenal   Matchweek 1  13/08/2021  Home  20:00   \n",
       "0           Liverpool     Norwich City   Matchweek 1  14/08/2021  Away  17:30   \n",
       "1             Chelsea   Crystal Palace   Matchweek 1  14/08/2021  Home  15:00   \n",
       "0   Manchester United     Leeds United   Matchweek 1  14/08/2021  Home  12:30   \n",
       "..                ...              ...           ...         ...   ...    ...   \n",
       "20     Crystal Palace          Chelsea  Matchweek 20  15/01/2023  Away  14:00   \n",
       "28  Manchester United   Crystal Palace   Matchweek 7  18/01/2023  Away  20:00   \n",
       "21     Crystal Palace   Manchester Utd   Matchweek 7  18/01/2023  Home  20:00   \n",
       "29    Manchester City        Tottenham   Matchweek 7  19/01/2023  Home  20:00   \n",
       "27  Tottenham Hotspur  Manchester City   Matchweek 7  19/01/2023  Away  20:00   \n",
       "\n",
       "   result  \n",
       "0       L  \n",
       "0       W  \n",
       "0       W  \n",
       "1       W  \n",
       "0       W  \n",
       "..    ...  \n",
       "20      L  \n",
       "28      D  \n",
       "21      D  \n",
       "29      W  \n",
       "27      L  \n",
       "\n",
       "[1138 rows x 7 columns]"
      ]
     },
     "execution_count": 88,
     "metadata": {},
     "output_type": "execute_result"
    }
   ],
   "source": [
    "original_df"
   ]
  },
  {
   "cell_type": "code",
   "execution_count": null,
   "id": "ac76e3da",
   "metadata": {},
   "outputs": [],
   "source": []
  }
 ],
 "metadata": {
  "kernelspec": {
   "display_name": "Python 3 (ipykernel)",
   "language": "python",
   "name": "python3"
  },
  "language_info": {
   "codemirror_mode": {
    "name": "ipython",
    "version": 3
   },
   "file_extension": ".py",
   "mimetype": "text/x-python",
   "name": "python",
   "nbconvert_exporter": "python",
   "pygments_lexer": "ipython3",
   "version": "3.9.12"
  }
 },
 "nbformat": 4,
 "nbformat_minor": 5
}
